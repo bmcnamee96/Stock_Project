{
 "cells": [
  {
   "cell_type": "code",
   "execution_count": 291,
   "id": "d48f0dca",
   "metadata": {},
   "outputs": [
    {
     "name": "stdout",
     "output_type": "stream",
     "text": [
      "What stock do you want to find?MSFT\n",
      "https://api.polygon.io/v2/aggs/ticker/MSFT/range/1/day/2020-01-01/2022-01-01?adjusted=false&sort=asc&limit=1900&apiKey=P7xEmqFaamAMUwpkAMYQ3QZRDsA7H3Pz\n"
     ]
    }
   ],
   "source": [
    "# import dependencies\n",
    "import pandas as pd\n",
    "import numpy as np\n",
    "import matplotlib.pyplot as plt\n",
    "import random\n",
    "import requests\n",
    "\n",
    "# import api key\n",
    "from config import key\n",
    "\n",
    "# have the user input what they want to see\n",
    "stock_input = input('What stock do you want to find?')\n",
    "# start_input = input('What is the start day? (\"YYYY-MM-DD\")')\n",
    "# end_input = input('What is the end day? (\"YYYY-MM-DD\")')\n",
    "# for testing:\n",
    "# stock_input = 'TSLA'\n",
    "start_input = '2020-01-01'\n",
    "end_input = '2022-01-01'\n",
    "\n",
    "# request the api from polygon\n",
    "# using the base url from polygon docs\n",
    "base_url = 'https://api.polygon.io/v2/aggs/ticker/'\n",
    "\n",
    "# create the url that will be put into json including api key\n",
    "url = f'{base_url}{stock_input}/range/1/day/{start_input}/{end_input}?adjusted=false&sort=asc&limit=1900&apiKey={key}'\n",
    "print(url)\n",
    "# get the text in json format in result\n",
    "result = requests.get(url).json()\n",
    "# print(result)"
   ]
  },
  {
   "cell_type": "code",
   "execution_count": 292,
   "id": "ce8540b5",
   "metadata": {},
   "outputs": [
    {
     "data": {
      "text/plain": [
       "dict_keys(['ticker', 'queryCount', 'resultsCount', 'adjusted', 'results', 'status', 'request_id', 'count'])"
      ]
     },
     "execution_count": 292,
     "metadata": {},
     "output_type": "execute_result"
    }
   ],
   "source": [
    "result.keys()"
   ]
  },
  {
   "cell_type": "code",
   "execution_count": 293,
   "id": "8892e243",
   "metadata": {},
   "outputs": [
    {
     "data": {
      "text/plain": [
       "'MSFT'"
      ]
     },
     "execution_count": 293,
     "metadata": {},
     "output_type": "execute_result"
    }
   ],
   "source": [
    "# print the ticker result\n",
    "result['ticker']"
   ]
  },
  {
   "cell_type": "code",
   "execution_count": 294,
   "id": "a28f6740",
   "metadata": {},
   "outputs": [
    {
     "data": {
      "text/plain": [
       "436"
      ]
     },
     "execution_count": 294,
     "metadata": {},
     "output_type": "execute_result"
    }
   ],
   "source": [
    "result['resultsCount']"
   ]
  },
  {
   "cell_type": "code",
   "execution_count": 295,
   "id": "7e9b322b",
   "metadata": {},
   "outputs": [],
   "source": [
    "# print the status of the stock\n",
    "status = result['status']"
   ]
  },
  {
   "cell_type": "code",
   "execution_count": 296,
   "id": "68c092c8",
   "metadata": {},
   "outputs": [],
   "source": [
    "# v: the trading volume\n",
    "# vw: the volume weighted average price\n",
    "# o: the open price for the day\n",
    "# c: the close price for the day\n",
    "# h: the high for the day\n",
    "# l: the low for the day\n",
    "# t: the unix msec timestamp\n",
    "# n: the number of transactions for the day"
   ]
  },
  {
   "cell_type": "code",
   "execution_count": 297,
   "id": "64dd5cba",
   "metadata": {},
   "outputs": [],
   "source": [
    "# create a list to hold the close prices for the stock\n",
    "close_prices = []"
   ]
  },
  {
   "cell_type": "code",
   "execution_count": 298,
   "id": "f1c5e916",
   "metadata": {},
   "outputs": [],
   "source": [
    "# create the loop to show me the close price for each day\n",
    "for day in result['results']:\n",
    "    for close, price in day.items():\n",
    "        if close == 'c':\n",
    "            close_prices.append(price)"
   ]
  },
  {
   "cell_type": "code",
   "execution_count": 299,
   "id": "769ae315",
   "metadata": {},
   "outputs": [],
   "source": [
    "x_position = len(close_prices)/2\n",
    "y_position = np.max(close_prices)"
   ]
  },
  {
   "cell_type": "code",
   "execution_count": 300,
   "id": "096db3e1",
   "metadata": {},
   "outputs": [
    {
     "data": {
      "image/png": "[encoded data removed]",
      "text/plain": [
       "<Figure size 432x288 with 1 Axes>"
      ]
     },
     "metadata": {
      "needs_background": "light"
     },
     "output_type": "display_data"
    }
   ],
   "source": [
    "plt.plot(close_prices, color = 'r')\n",
    "plt.xlabel('Number of Days')\n",
    "plt.ylabel('Price')\n",
    "plt.title(f'Change in Price for {stock_input} \\n from {start_input} - {end_input}')\n",
    "\n",
    "plt.text(x_position, y_position, (f'Status: {status}'), fontsize=10, verticalalignment='top')\n",
    "\n",
    "plt.show()"
   ]
  },
  {
   "cell_type": "code",
   "execution_count": null,
   "id": "596782b4",
   "metadata": {},
   "outputs": [],
   "source": []
  }
 ],
 "metadata": {
  "kernelspec": {
   "display_name": "Python 3 (ipykernel)",
   "language": "python",
   "name": "python3"
  },
  "language_info": {
   "codemirror_mode": {
    "name": "ipython",
    "version": 3
   },
   "file_extension": ".py",
   "mimetype": "text/x-python",
   "name": "python",
   "nbconvert_exporter": "python",
   "pygments_lexer": "ipython3",
   "version": "3.9.7"
  }
 },
 "nbformat": 4,
 "nbformat_minor": 5
}
