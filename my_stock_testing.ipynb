{
 "cells": [
  {
   "cell_type": "code",
   "execution_count": 197,
   "id": "237e933e",
   "metadata": {},
   "outputs": [],
   "source": [
    "# import dependencies\n",
    "import pandas as pd\n",
    "import random\n",
    "import statistics\n",
    "import numpy\n",
    "import requests\n",
    "import time\n",
    "import matplotlib.pyplot as plt\n",
    "\n",
    "# import api key\n",
    "from config import key\n",
    "\n",
    "my_symbols = ['AAPL', 'TSLA', 'FB', 'MSFT', 'NVDA']\n",
    "#local_time = time.localtime()\n",
    "#date = time.strftime(\"%Y-%m-%d\", local_time)\n",
    "date = '2022-04-12'"
   ]
  },
  {
   "cell_type": "code",
   "execution_count": 198,
   "id": "e2e03d76",
   "metadata": {},
   "outputs": [],
   "source": [
    "base_url = 'https://api.polygon.io/v1/open-close/'"
   ]
  },
  {
   "cell_type": "code",
   "execution_count": 199,
   "id": "7df3fb46",
   "metadata": {},
   "outputs": [],
   "source": [
    "url_list = []\n",
    "\n",
    "for symbol in my_symbols:\n",
    "    url_list.append(f'{base_url}{symbol}/{date}/?adjusted=false&apiKey={key}')"
   ]
  },
  {
   "cell_type": "code",
   "execution_count": 200,
   "id": "32665a71",
   "metadata": {},
   "outputs": [
    {
     "data": {
      "text/plain": [
       "[{'status': 'OK',\n",
       "  'from': '2022-04-12',\n",
       "  'symbol': 'AAPL',\n",
       "  'open': 168.02,\n",
       "  'high': 169.87,\n",
       "  'low': 166.64,\n",
       "  'close': 167.66,\n",
       "  'volume': 79265181,\n",
       "  'afterHours': 168.5,\n",
       "  'preMarket': 165},\n",
       " {'status': 'OK',\n",
       "  'from': '2022-04-12',\n",
       "  'symbol': 'TSLA',\n",
       "  'open': 997.64,\n",
       "  'high': 1021.1921,\n",
       "  'low': 976.6001,\n",
       "  'close': 986.95,\n",
       "  'volume': 21992032,\n",
       "  'afterHours': 991.78,\n",
       "  'preMarket': 968.33},\n",
       " {'status': 'OK',\n",
       "  'from': '2022-04-12',\n",
       "  'symbol': 'FB',\n",
       "  'open': 220.235,\n",
       "  'high': 222.03,\n",
       "  'low': 213.13,\n",
       "  'close': 214.14,\n",
       "  'volume': 20128827,\n",
       "  'afterHours': 214.9,\n",
       "  'preMarket': 216.51},\n",
       " {'status': 'OK',\n",
       "  'from': '2022-04-12',\n",
       "  'symbol': 'MSFT',\n",
       "  'open': 289.235,\n",
       "  'high': 290.739,\n",
       "  'low': 280.49,\n",
       "  'close': 282.06,\n",
       "  'volume': 30966721,\n",
       "  'afterHours': 283.29,\n",
       "  'preMarket': 285},\n",
       " {'status': 'OK',\n",
       "  'from': '2022-04-12',\n",
       "  'symbol': 'NVDA',\n",
       "  'open': 225.37,\n",
       "  'high': 227.25,\n",
       "  'low': 212.8204,\n",
       "  'close': 215.04,\n",
       "  'volume': 65771807,\n",
       "  'afterHours': 215.95,\n",
       "  'preMarket': 218.78}]"
      ]
     },
     "execution_count": 200,
     "metadata": {},
     "output_type": "execute_result"
    }
   ],
   "source": [
    "res = []\n",
    "\n",
    "for url in url_list:\n",
    "    res.append(requests.get(url).json())\n",
    "\n",
    "res"
   ]
  },
  {
   "cell_type": "code",
   "execution_count": 201,
   "id": "3858fb0a",
   "metadata": {},
   "outputs": [],
   "source": [
    "# lists that will create the df\n",
    "stock_close = []\n",
    "stock_open = []\n",
    "percent_change = []\n",
    "stock_symbol = []"
   ]
  },
  {
   "cell_type": "code",
   "execution_count": 202,
   "id": "cedb0d4e",
   "metadata": {},
   "outputs": [],
   "source": [
    "for stock_info in res:\n",
    "    for key, value in stock_info.items():\n",
    "        if key == 'close':\n",
    "            stock_close.append(value)\n",
    "        if key == 'open':\n",
    "            stock_open.append(value)\n",
    "        if key == 'symbol':\n",
    "            stock_symbol.append(value)"
   ]
  },
  {
   "cell_type": "code",
   "execution_count": 203,
   "id": "1cdccba2",
   "metadata": {},
   "outputs": [],
   "source": [
    "i = 0\n",
    "length = len(stock_close)\n",
    "\n",
    "while i < length:\n",
    "    day_dif = stock_close[i] - stock_open[i]\n",
    "    percent_change.append(day_dif / stock_close[i] * 100)\n",
    "    \n",
    "    i+=1"
   ]
  },
  {
   "cell_type": "code",
   "execution_count": 204,
   "id": "a28cd861",
   "metadata": {},
   "outputs": [
    {
     "name": "stdout",
     "output_type": "stream",
     "text": [
      "{'symbol': ['AAPL', 'TSLA', 'FB', 'MSFT', 'NVDA'], 'open': [168.02, 997.64, 220.235, 289.235, 225.37], 'close': [167.66, 986.95, 214.14, 282.06, 215.04], 'percent change': [-0.2147202672074518, -1.0831349105831036, -2.846268796114704, -2.5437850102815043, -4.803757440476197]}\n"
     ]
    }
   ],
   "source": [
    "# create a dict\n",
    "stock_dict = {\n",
    "    'symbol': stock_symbol,\n",
    "    'open': stock_open,\n",
    "    'close': stock_close,\n",
    "    'percent change': percent_change\n",
    "}\n",
    "print(stock_dict)"
   ]
  },
  {
   "cell_type": "code",
   "execution_count": 205,
   "id": "37af11fd",
   "metadata": {},
   "outputs": [
    {
     "data": {
      "text/html": [
       "<div>\n",
       "<style scoped>\n",
       "    .dataframe tbody tr th:only-of-type {\n",
       "        vertical-align: middle;\n",
       "    }\n",
       "\n",
       "    .dataframe tbody tr th {\n",
       "        vertical-align: top;\n",
       "    }\n",
       "\n",
       "    .dataframe thead th {\n",
       "        text-align: right;\n",
       "    }\n",
       "</style>\n",
       "<table border=\"1\" class=\"dataframe\">\n",
       "  <thead>\n",
       "    <tr style=\"text-align: right;\">\n",
       "      <th></th>\n",
       "      <th>symbol</th>\n",
       "      <th>open</th>\n",
       "      <th>close</th>\n",
       "      <th>percent change</th>\n",
       "    </tr>\n",
       "  </thead>\n",
       "  <tbody>\n",
       "    <tr>\n",
       "      <th>0</th>\n",
       "      <td>AAPL</td>\n",
       "      <td>168.020</td>\n",
       "      <td>167.66</td>\n",
       "      <td>-0.214720</td>\n",
       "    </tr>\n",
       "    <tr>\n",
       "      <th>1</th>\n",
       "      <td>TSLA</td>\n",
       "      <td>997.640</td>\n",
       "      <td>986.95</td>\n",
       "      <td>-1.083135</td>\n",
       "    </tr>\n",
       "    <tr>\n",
       "      <th>2</th>\n",
       "      <td>FB</td>\n",
       "      <td>220.235</td>\n",
       "      <td>214.14</td>\n",
       "      <td>-2.846269</td>\n",
       "    </tr>\n",
       "    <tr>\n",
       "      <th>3</th>\n",
       "      <td>MSFT</td>\n",
       "      <td>289.235</td>\n",
       "      <td>282.06</td>\n",
       "      <td>-2.543785</td>\n",
       "    </tr>\n",
       "    <tr>\n",
       "      <th>4</th>\n",
       "      <td>NVDA</td>\n",
       "      <td>225.370</td>\n",
       "      <td>215.04</td>\n",
       "      <td>-4.803757</td>\n",
       "    </tr>\n",
       "  </tbody>\n",
       "</table>\n",
       "</div>"
      ],
      "text/plain": [
       "  symbol     open   close  percent change\n",
       "0   AAPL  168.020  167.66       -0.214720\n",
       "1   TSLA  997.640  986.95       -1.083135\n",
       "2     FB  220.235  214.14       -2.846269\n",
       "3   MSFT  289.235  282.06       -2.543785\n",
       "4   NVDA  225.370  215.04       -4.803757"
      ]
     },
     "execution_count": 205,
     "metadata": {},
     "output_type": "execute_result"
    }
   ],
   "source": [
    "# create a dataframe with all of this info\n",
    "my_stocks_df = pd.DataFrame(stock_dict)\n",
    "my_stocks_df"
   ]
  },
  {
   "cell_type": "code",
   "execution_count": 206,
   "id": "4bfab175",
   "metadata": {},
   "outputs": [
    {
     "name": "stdout",
     "output_type": "stream",
     "text": [
      "  symbol     open   close  percent change\n",
      "0   AAPL  168.020  167.66       -0.214720\n",
      "1   TSLA  997.640  986.95       -1.083135\n",
      "2     FB  220.235  214.14       -2.846269\n",
      "3   MSFT  289.235  282.06       -2.543785\n",
      "4   NVDA  225.370  215.04       -4.803757\n"
     ]
    }
   ],
   "source": [
    "# print the df\n",
    "print(my_stocks_df)"
   ]
  },
  {
   "cell_type": "code",
   "execution_count": 207,
   "id": "e6449233",
   "metadata": {},
   "outputs": [
    {
     "data": {
      "image/png": "[encoded data removed]",
      "text/plain": [
       "<Figure size 432x288 with 1 Axes>"
      ]
     },
     "metadata": {
      "needs_background": "light"
     },
     "output_type": "display_data"
    }
   ],
   "source": [
    "# create a horizontal bar chart that shows the percent change for each of the stocks to see which did the best\n",
    "plt.barh(stock_symbol, height = 0.4, width = percent_change, color = 'r')\n",
    "# annotate the chart\n",
    "plt.title('Percent Change for {yesterday_date}')\n",
    "plt.xlabel('Stock Symbol')\n",
    "plt.ylabel('Percent Change')\n",
    "\n",
    "# show the chart\n",
    "plt.show()"
   ]
  },
  {
   "cell_type": "code",
   "execution_count": 208,
   "id": "c3c14d9d",
   "metadata": {},
   "outputs": [],
   "source": [
    "# create a list to hold the stock_dict for each day\n",
    "daily_stock_info = [{'symbol': ['AAPL', 'TSLA', 'FB', 'MSFT', 'NVDA'],\n",
    "  'open': [168.71, 980.4, 218.42, 291.79, 222.14],\n",
    "  'close': [165.75, 975.93, 216.46, 285.26, 219.17],\n",
    "  'percent change': [-1.7858220211161437,\n",
    "   -0.45802465340752174,\n",
    "   -0.9054790723459204,\n",
    "   -2.289139732174167,\n",
    "   -1.3551124697723225]}]\n",
    "# create a list to hold the date for each day\n",
    "days = ['2022-04-11']"
   ]
  },
  {
   "cell_type": "code",
   "execution_count": 209,
   "id": "11a09eb1",
   "metadata": {},
   "outputs": [],
   "source": [
    "daily_stock_info.append(stock_dict)\n",
    "days.append(date)\n",
    "\n",
    "daily_dict = {k:v for k,v in zip(days,daily_stock_info)}"
   ]
  },
  {
   "cell_type": "code",
   "execution_count": 210,
   "id": "ac8841e7",
   "metadata": {},
   "outputs": [
    {
     "data": {
      "text/plain": [
       "{'2022-04-11': {'symbol': ['AAPL', 'TSLA', 'FB', 'MSFT', 'NVDA'],\n",
       "  'open': [168.71, 980.4, 218.42, 291.79, 222.14],\n",
       "  'close': [165.75, 975.93, 216.46, 285.26, 219.17],\n",
       "  'percent change': [-1.7858220211161437,\n",
       "   -0.45802465340752174,\n",
       "   -0.9054790723459204,\n",
       "   -2.289139732174167,\n",
       "   -1.3551124697723225]},\n",
       " '2022-04-12': {'symbol': ['AAPL', 'TSLA', 'FB', 'MSFT', 'NVDA'],\n",
       "  'open': [168.02, 997.64, 220.235, 289.235, 225.37],\n",
       "  'close': [167.66, 986.95, 214.14, 282.06, 215.04],\n",
       "  'percent change': [-0.2147202672074518,\n",
       "   -1.0831349105831036,\n",
       "   -2.846268796114704,\n",
       "   -2.5437850102815043,\n",
       "   -4.803757440476197]}}"
      ]
     },
     "execution_count": 210,
     "metadata": {},
     "output_type": "execute_result"
    }
   ],
   "source": [
    "daily_dict"
   ]
  },
  {
   "cell_type": "code",
   "execution_count": 211,
   "id": "76af2df3",
   "metadata": {},
   "outputs": [
    {
     "data": {
      "text/plain": [
       "'2022-04-12'"
      ]
     },
     "execution_count": 211,
     "metadata": {},
     "output_type": "execute_result"
    }
   ],
   "source": [
    "date"
   ]
  },
  {
   "cell_type": "code",
   "execution_count": null,
   "id": "bf59ff1b",
   "metadata": {},
   "outputs": [],
   "source": []
  }
 ],
 "metadata": {
  "kernelspec": {
   "display_name": "Python 3 (ipykernel)",
   "language": "python",
   "name": "python3"
  },
  "language_info": {
   "codemirror_mode": {
    "name": "ipython",
    "version": 3
   },
   "file_extension": ".py",
   "mimetype": "text/x-python",
   "name": "python",
   "nbconvert_exporter": "python",
   "pygments_lexer": "ipython3",
   "version": "3.7.6"
  }
 },
 "nbformat": 4,
 "nbformat_minor": 5
}
