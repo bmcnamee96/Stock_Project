{
 "cells": [
  {
   "cell_type": "code",
   "execution_count": 40,
   "id": "237e933e",
   "metadata": {},
   "outputs": [
    {
     "data": {
      "text/plain": [
       "'2022-04-13'"
      ]
     },
     "execution_count": 40,
     "metadata": {},
     "output_type": "execute_result"
    }
   ],
   "source": [
    "# import dependencies\n",
    "import pandas as pd\n",
    "import random\n",
    "import statistics\n",
    "import numpy\n",
    "import requests\n",
    "import time\n",
    "\n",
    "# import api key\n",
    "from config import key\n",
    "\n",
    "my_symbols = ['AAPL', 'TSLA', 'FB', 'MSFT', 'NVDA']\n",
    "local_time = time.localtime()\n",
    "date = time.strftime(\"%Y-%m-%d\", local_time)\n",
    "date"
   ]
  },
  {
   "cell_type": "code",
   "execution_count": 2,
   "id": "e2e03d76",
   "metadata": {},
   "outputs": [],
   "source": [
    "base_url = 'https://api.polygon.io/v1/open-close/'"
   ]
  },
  {
   "cell_type": "code",
   "execution_count": 3,
   "id": "7df3fb46",
   "metadata": {},
   "outputs": [],
   "source": [
    "url_list = []\n",
    "\n",
    "for symbol in my_symbols:\n",
    "    url_list.append(f'{base_url}{symbol}/{date}/?adjusted=false&apiKey={key}')"
   ]
  },
  {
   "cell_type": "code",
   "execution_count": 5,
   "id": "32665a71",
   "metadata": {},
   "outputs": [],
   "source": [
    "res = []\n",
    "\n",
    "for url in url_list:\n",
    "    res.append(requests.get(url).json())"
   ]
  },
  {
   "cell_type": "code",
   "execution_count": 6,
   "id": "3858fb0a",
   "metadata": {},
   "outputs": [],
   "source": [
    "# lists that will create the df\n",
    "stock_close = []\n",
    "stock_open = []\n",
    "percent_change = []\n",
    "stock_symbol = []"
   ]
  },
  {
   "cell_type": "code",
   "execution_count": 20,
   "id": "f7be01dc",
   "metadata": {},
   "outputs": [
    {
     "data": {
      "text/plain": [
       "'AAPL'"
      ]
     },
     "execution_count": 20,
     "metadata": {},
     "output_type": "execute_result"
    }
   ],
   "source": [
    "res[0]['symbol']"
   ]
  },
  {
   "cell_type": "code",
   "execution_count": 7,
   "id": "cedb0d4e",
   "metadata": {},
   "outputs": [],
   "source": [
    "for stock_info in res:\n",
    "    for key, price in stock_info.items():\n",
    "        if key == 'close':\n",
    "            stock_close.append(price)\n",
    "        if key == 'open':\n",
    "            stock_open.append(price)"
   ]
  },
  {
   "cell_type": "code",
   "execution_count": 11,
   "id": "1cdccba2",
   "metadata": {},
   "outputs": [],
   "source": [
    "i = 0\n",
    "length = len(stock_close)\n",
    "\n",
    "while i < length:\n",
    "    day_dif = stock_close[i] - stock_open[i]\n",
    "    percent_change.append(day_dif / stock_close[i] * 100)\n",
    "    \n",
    "    i+=1"
   ]
  },
  {
   "cell_type": "code",
   "execution_count": 16,
   "id": "a28cd861",
   "metadata": {},
   "outputs": [
    {
     "name": "stdout",
     "output_type": "stream",
     "text": [
      "{'symbol': ['AAPL', 'TSLA', 'FB', 'MSFT'], 'open': [174.03, 1081.15, 224.55, 309.37], 'close': [174.31, 1084.59, 224.85, 309.42], '% change': [0.1606333543686542, 0.3171705437077446, 0.13342228152100644, 0.01615926572296922]}\n"
     ]
    }
   ],
   "source": [
    "# create a dict\n",
    "stock_dict = {\n",
    "    'symbol': my_symbols,\n",
    "    'open': stock_open,\n",
    "    'close': stock_close,\n",
    "    '% change': percent_change\n",
    "}\n",
    "print(stock_dict)"
   ]
  },
  {
   "cell_type": "code",
   "execution_count": 17,
   "id": "37af11fd",
   "metadata": {},
   "outputs": [
    {
     "data": {
      "text/html": [
       "<div>\n",
       "<style scoped>\n",
       "    .dataframe tbody tr th:only-of-type {\n",
       "        vertical-align: middle;\n",
       "    }\n",
       "\n",
       "    .dataframe tbody tr th {\n",
       "        vertical-align: top;\n",
       "    }\n",
       "\n",
       "    .dataframe thead th {\n",
       "        text-align: right;\n",
       "    }\n",
       "</style>\n",
       "<table border=\"1\" class=\"dataframe\">\n",
       "  <thead>\n",
       "    <tr style=\"text-align: right;\">\n",
       "      <th></th>\n",
       "      <th>symbol</th>\n",
       "      <th>open</th>\n",
       "      <th>close</th>\n",
       "      <th>% change</th>\n",
       "    </tr>\n",
       "  </thead>\n",
       "  <tbody>\n",
       "    <tr>\n",
       "      <th>0</th>\n",
       "      <td>AAPL</td>\n",
       "      <td>174.03</td>\n",
       "      <td>174.31</td>\n",
       "      <td>0.160633</td>\n",
       "    </tr>\n",
       "    <tr>\n",
       "      <th>1</th>\n",
       "      <td>TSLA</td>\n",
       "      <td>1081.15</td>\n",
       "      <td>1084.59</td>\n",
       "      <td>0.317171</td>\n",
       "    </tr>\n",
       "    <tr>\n",
       "      <th>2</th>\n",
       "      <td>FB</td>\n",
       "      <td>224.55</td>\n",
       "      <td>224.85</td>\n",
       "      <td>0.133422</td>\n",
       "    </tr>\n",
       "    <tr>\n",
       "      <th>3</th>\n",
       "      <td>MSFT</td>\n",
       "      <td>309.37</td>\n",
       "      <td>309.42</td>\n",
       "      <td>0.016159</td>\n",
       "    </tr>\n",
       "  </tbody>\n",
       "</table>\n",
       "</div>"
      ],
      "text/plain": [
       "  symbol     open    close  % change\n",
       "0   AAPL   174.03   174.31  0.160633\n",
       "1   TSLA  1081.15  1084.59  0.317171\n",
       "2     FB   224.55   224.85  0.133422\n",
       "3   MSFT   309.37   309.42  0.016159"
      ]
     },
     "execution_count": 17,
     "metadata": {},
     "output_type": "execute_result"
    }
   ],
   "source": [
    "# create a dataframe with all of this info\n",
    "my_stocks_df = pd.DataFrame(stock_dict)\n",
    "my_stocks_df"
   ]
  },
  {
   "cell_type": "code",
   "execution_count": null,
   "id": "e6449233",
   "metadata": {},
   "outputs": [],
   "source": []
  },
  {
   "cell_type": "code",
   "execution_count": null,
   "id": "11a09eb1",
   "metadata": {},
   "outputs": [],
   "source": []
  }
 ],
 "metadata": {
  "kernelspec": {
   "display_name": "Python 3 (ipykernel)",
   "language": "python",
   "name": "python3"
  },
  "language_info": {
   "codemirror_mode": {
    "name": "ipython",
    "version": 3
   },
   "file_extension": ".py",
   "mimetype": "text/x-python",
   "name": "python",
   "nbconvert_exporter": "python",
   "pygments_lexer": "ipython3",
   "version": "3.9.7"
  }
 },
 "nbformat": 4,
 "nbformat_minor": 5
}
