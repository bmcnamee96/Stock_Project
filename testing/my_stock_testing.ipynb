{
 "cells": [
  {
   "cell_type": "code",
   "execution_count": 6,
   "id": "237e933e",
   "metadata": {},
   "outputs": [],
   "source": [
    "# import dependencies\n",
    "import pandas as pd\n",
    "import random\n",
    "import statistics\n",
    "import numpy\n",
    "import requests\n",
    "import time\n",
    "from openpyxl.workbook import Workbook\n",
    "from openpyxl import load_workbook\n",
    "import matplotlib.pyplot as plt\n",
    "\n",
    "# import api key\n",
    "from config import key\n",
    "\n",
    "my_symbols = ['TSLA']\n",
    "#local_time = time.localtime()\n",
    "#date = time.strftime(\"%Y-%m-%d\", local_time)\n",
    "date = '2022-04-12'"
   ]
  },
  {
   "cell_type": "code",
   "execution_count": 7,
   "id": "e2e03d76",
   "metadata": {},
   "outputs": [],
   "source": [
    "base_url = 'https://api.polygon.io/v1/open-close/'"
   ]
  },
  {
   "cell_type": "code",
   "execution_count": 8,
   "id": "7df3fb46",
   "metadata": {},
   "outputs": [],
   "source": [
    "url_list = []\n",
    "\n",
    "for symbol in my_symbols:\n",
    "    url_list.append(f'{base_url}{symbol}/{date}/?adjusted=false&apiKey={key}')"
   ]
  },
  {
   "cell_type": "code",
   "execution_count": 9,
   "id": "32665a71",
   "metadata": {},
   "outputs": [],
   "source": [
    "res = []\n",
    "\n",
    "for url in url_list:\n",
    "    res.append(requests.get(url).json())"
   ]
  },
  {
   "cell_type": "code",
   "execution_count": 10,
   "id": "3858fb0a",
   "metadata": {},
   "outputs": [],
   "source": [
    "# lists that will create the df\n",
    "stock_close = []\n",
    "stock_open = []\n",
    "percent_change = []\n",
    "stock_symbol = []"
   ]
  },
  {
   "cell_type": "code",
   "execution_count": 11,
   "id": "cedb0d4e",
   "metadata": {},
   "outputs": [],
   "source": [
    "for stock_info in res:\n",
    "    for key, value in stock_info.items():\n",
    "        if key == 'close':\n",
    "            stock_close.append(value)\n",
    "        if key == 'open':\n",
    "            stock_open.append(value)\n",
    "        if key == 'symbol':\n",
    "            stock_symbol.append(value)"
   ]
  },
  {
   "cell_type": "code",
   "execution_count": 12,
   "id": "1cdccba2",
   "metadata": {},
   "outputs": [],
   "source": [
    "i = 0\n",
    "length = len(stock_close)\n",
    "\n",
    "while i < length:\n",
    "    day_dif = stock_close[i] - stock_open[i]\n",
    "    percent_change.append(day_dif / stock_close[i] * 100)\n",
    "    \n",
    "    i+=1"
   ]
  },
  {
   "cell_type": "code",
   "execution_count": 13,
   "id": "a28cd861",
   "metadata": {},
   "outputs": [],
   "source": [
    "# create a dict\n",
    "stock_dict = {\n",
    "    'date': date,\n",
    "    'open': stock_open,\n",
    "    'close': stock_close,\n",
    "    'percent change': percent_change\n",
    "}"
   ]
  },
  {
   "cell_type": "code",
   "execution_count": 44,
   "id": "cd3b5622",
   "metadata": {},
   "outputs": [],
   "source": [
    "headers = ['Symbol', 'Date', 'Open Price', 'Close Price', 'Percentage Change']\n",
    "workbook_name = 'testing.xlsx'\n",
    "wb = Workbook()\n",
    "page = wb.active\n",
    "page.title = 'my_stocks'\n",
    "page.append(headers)\n",
    "\n",
    "wb.save(filename=workbook_name)"
   ]
  },
  {
   "cell_type": "code",
   "execution_count": 45,
   "id": "cd27135c",
   "metadata": {},
   "outputs": [
    {
     "data": {
      "text/plain": [
       "['TSLA', '2022-04-12', 997.64, 986.95, -1.0831349105831036]"
      ]
     },
     "execution_count": 45,
     "metadata": {},
     "output_type": "execute_result"
    }
   ],
   "source": [
    "daily_stock = [stock_symbol[0], date, stock_open[0], stock_close[0], percent_change[0]]\n",
    "daily_stock"
   ]
  },
  {
   "cell_type": "code",
   "execution_count": 47,
   "id": "cb58f51c",
   "metadata": {},
   "outputs": [],
   "source": [
    "workbook_name = 'testing.xlsx'\n",
    "wb = load_workbook(workbook_name)\n",
    "page = wb.active\n",
    "\n",
    "# new data to write\n",
    "new_daily_stock = [daily_stock]\n",
    "\n",
    "for info in new_daily_stock:\n",
    "    page.append(info)\n",
    "\n",
    "wb.save(filename=workbook_name)"
   ]
  },
  {
   "cell_type": "code",
   "execution_count": 14,
   "id": "37af11fd",
   "metadata": {},
   "outputs": [
    {
     "data": {
      "text/html": [
       "<div>\n",
       "<style scoped>\n",
       "    .dataframe tbody tr th:only-of-type {\n",
       "        vertical-align: middle;\n",
       "    }\n",
       "\n",
       "    .dataframe tbody tr th {\n",
       "        vertical-align: top;\n",
       "    }\n",
       "\n",
       "    .dataframe thead th {\n",
       "        text-align: right;\n",
       "    }\n",
       "</style>\n",
       "<table border=\"1\" class=\"dataframe\">\n",
       "  <thead>\n",
       "    <tr style=\"text-align: right;\">\n",
       "      <th></th>\n",
       "      <th>date</th>\n",
       "      <th>open</th>\n",
       "      <th>close</th>\n",
       "      <th>percent change</th>\n",
       "    </tr>\n",
       "  </thead>\n",
       "  <tbody>\n",
       "    <tr>\n",
       "      <th>TSLA</th>\n",
       "      <td>2022-04-12</td>\n",
       "      <td>997.64</td>\n",
       "      <td>986.95</td>\n",
       "      <td>-1.083135</td>\n",
       "    </tr>\n",
       "  </tbody>\n",
       "</table>\n",
       "</div>"
      ],
      "text/plain": [
       "            date    open   close  percent change\n",
       "TSLA  2022-04-12  997.64  986.95       -1.083135"
      ]
     },
     "execution_count": 14,
     "metadata": {},
     "output_type": "execute_result"
    }
   ],
   "source": [
    "# create a dataframe with all of this info\n",
    "my_stocks_df = pd.DataFrame(stock_dict, index = stock_symbol)\n",
    "my_stocks_df"
   ]
  },
  {
   "cell_type": "code",
   "execution_count": 49,
   "id": "ad74acb6",
   "metadata": {},
   "outputs": [],
   "source": [
    "writer = pd.ExcelWriter('testing.xlsx')\n",
    "my_stocks_df.to_excel(writer)\n",
    "\n",
    "writer.save()"
   ]
  },
  {
   "cell_type": "code",
   "execution_count": 41,
   "id": "e6449233",
   "metadata": {},
   "outputs": [
    {
     "data": {
      "image/png": "[encoded data removed]",
      "text/plain": [
       "<Figure size 432x288 with 1 Axes>"
      ]
     },
     "metadata": {
      "needs_background": "light"
     },
     "output_type": "display_data"
    }
   ],
   "source": [
    "# create a horizontal bar chart that shows the percent change for each of the stocks to see which did the best\n",
    "plt.barh(stock_symbol, height = 0.4, width = percent_change, color = 'r')\n",
    "# annotate the chart\n",
    "plt.title('Percent Change for {yesterday_date}')\n",
    "plt.xlabel('Stock Symbol')\n",
    "plt.ylabel('Percent Change')\n",
    "\n",
    "# show the chart\n",
    "plt.show()"
   ]
  },
  {
   "cell_type": "code",
   "execution_count": 42,
   "id": "c3c14d9d",
   "metadata": {},
   "outputs": [],
   "source": [
    "# create a list to hold the stock_dict for each day\n",
    "daily_stock_info = []\n",
    "# create a list to hold the date for each day\n",
    "days = []"
   ]
  },
  {
   "cell_type": "code",
   "execution_count": 13,
   "id": "11a09eb1",
   "metadata": {},
   "outputs": [],
   "source": [
    "daily_stock_info.append(stock_dict)\n",
    "days.append(date)\n",
    "daily_dict = {k:v for k,v in zip(days,daily_stock_info)}\n",
    "\n",
    "# with open('dictionary_testing.txt', 'a') as f:\n",
    "#     f.write('\\n' f'{daily_dict}')"
   ]
  },
  {
   "cell_type": "code",
   "execution_count": null,
   "id": "9457147e",
   "metadata": {},
   "outputs": [],
   "source": []
  },
  {
   "cell_type": "code",
   "execution_count": 15,
   "id": "bf59ff1b",
   "metadata": {},
   "outputs": [],
   "source": [
    "# with open('dictionary_testing.txt', 'w') as f:\n",
    "#    f.write()"
   ]
  }
 ],
 "metadata": {
  "kernelspec": {
   "display_name": "Python 3 (ipykernel)",
   "language": "python",
   "name": "python3"
  },
  "language_info": {
   "codemirror_mode": {
    "name": "ipython",
    "version": 3
   },
   "file_extension": ".py",
   "mimetype": "text/x-python",
   "name": "python",
   "nbconvert_exporter": "python",
   "pygments_lexer": "ipython3",
   "version": "3.7.6"
  }
 },
 "nbformat": 4,
 "nbformat_minor": 5
}
