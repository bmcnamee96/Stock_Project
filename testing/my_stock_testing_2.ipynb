{
 "cells": [
  {
   "cell_type": "code",
   "execution_count": 4,
   "metadata": {},
   "outputs": [],
   "source": [
    "# import dependencies\n",
    "import pandas as pd\n",
    "import random\n",
    "import statistics\n",
    "import numpy\n",
    "import requests\n",
    "import time\n",
    "from openpyxl.workbook import Workbook\n",
    "from openpyxl import load_workbook\n",
    "import matplotlib.pyplot as plt\n",
    "\n",
    "# import api key\n",
    "key = 'P7xEmqFaamAMUwpkAMYQ3QZRDsA7H3Pz'"
   ]
  },
  {
   "cell_type": "code",
   "execution_count": 5,
   "metadata": {},
   "outputs": [],
   "source": [
    "# the stocks to look at\n",
    "my_symbols = ['TSLA', 'AAPL']\n",
    "\n",
    "#local_time = time.localtime()\n",
    "#date = time.strftime(\"%Y-%m-%d\", local_time)\n",
    "\n",
    "# the date we will be looking at\n",
    "date = '2022-04-13'"
   ]
  },
  {
   "cell_type": "code",
   "execution_count": 6,
   "metadata": {},
   "outputs": [],
   "source": [
    "# base url from polygon.io\n",
    "base_url = 'https://api.polygon.io/v1/open-close/'\n",
    "\n",
    "# creating a list of urls with api keys\n",
    "url_list = []\n",
    "\n",
    "# looping through the symbols to get the urls\n",
    "for symbol in my_symbols:\n",
    "    url_list.append(f'{base_url}{symbol}/{date}/?adjusted=false&apiKey={key}')"
   ]
  },
  {
   "cell_type": "code",
   "execution_count": 7,
   "metadata": {},
   "outputs": [],
   "source": [
    "# creating a list for my results\n",
    "res = []\n",
    "\n",
    "# looping through the urls and requesting api data to put into results\n",
    "for url in url_list:\n",
    "    res.append(requests.get(url).json())"
   ]
  },
  {
   "cell_type": "code",
   "execution_count": null,
   "metadata": {},
   "outputs": [],
   "source": [
    "# lists that will create the df\n",
    "stock_close = []\n",
    "stock_open = []\n",
    "percent_change = []\n",
    "stock_symbol = []"
   ]
  },
  {
   "cell_type": "code",
   "execution_count": null,
   "metadata": {},
   "outputs": [],
   "source": [
    "# getting the close price, open price, and symbol\n",
    "for stock_info in res:\n",
    "    for key, value in stock_info.items():\n",
    "        if key == 'close':\n",
    "            stock_close.append(value)\n",
    "        if key == 'open':\n",
    "            stock_open.append(value)\n",
    "        if key == 'symbol':\n",
    "            stock_symbol.append(value)\n",
    "\n",
    "# finding the percent change of the stock over the day\n",
    "i = 0\n",
    "length = len(stock_close)\n",
    "\n",
    "while i < length:\n",
    "    day_dif = stock_close[i] - stock_open[i]\n",
    "    percent_change.append(day_dif / stock_close[i] * 100)\n",
    "    \n",
    "    i+=1\n",
    "\n"
   ]
  },
  {
   "cell_type": "code",
   "execution_count": null,
   "metadata": {},
   "outputs": [
    {
     "data": {
      "text/html": [
       "<div>\n",
       "<style scoped>\n",
       "    .dataframe tbody tr th:only-of-type {\n",
       "        vertical-align: middle;\n",
       "    }\n",
       "\n",
       "    .dataframe tbody tr th {\n",
       "        vertical-align: top;\n",
       "    }\n",
       "\n",
       "    .dataframe thead th {\n",
       "        text-align: right;\n",
       "    }\n",
       "</style>\n",
       "<table border=\"1\" class=\"dataframe\">\n",
       "  <thead>\n",
       "    <tr style=\"text-align: right;\">\n",
       "      <th></th>\n",
       "      <th>date</th>\n",
       "      <th>open</th>\n",
       "      <th>close</th>\n",
       "      <th>percent change</th>\n",
       "    </tr>\n",
       "  </thead>\n",
       "  <tbody>\n",
       "    <tr>\n",
       "      <th>TSLA</th>\n",
       "      <td>2022-04-12</td>\n",
       "      <td>997.64</td>\n",
       "      <td>986.95</td>\n",
       "      <td>-1.083135</td>\n",
       "    </tr>\n",
       "    <tr>\n",
       "      <th>AAPL</th>\n",
       "      <td>2022-04-12</td>\n",
       "      <td>168.02</td>\n",
       "      <td>167.66</td>\n",
       "      <td>-0.214720</td>\n",
       "    </tr>\n",
       "  </tbody>\n",
       "</table>\n",
       "</div>"
      ],
      "text/plain": [
       "            date    open   close  percent change\n",
       "TSLA  2022-04-12  997.64  986.95       -1.083135\n",
       "AAPL  2022-04-12  168.02  167.66       -0.214720"
      ]
     },
     "execution_count": 158,
     "metadata": {},
     "output_type": "execute_result"
    }
   ],
   "source": [
    "# create a dict\n",
    "stock_dict = {\n",
    "    'date': date,\n",
    "    'open': stock_open,\n",
    "    'close': stock_close,\n",
    "    'percent change': percent_change\n",
    "}\n",
    "\n",
    "# create a dataframe with all of this info\n",
    "my_stocks_df = pd.DataFrame(stock_dict, index = stock_symbol)\n",
    "my_stocks_df"
   ]
  },
  {
   "cell_type": "code",
   "execution_count": null,
   "metadata": {},
   "outputs": [],
   "source": [
    "## ONLY NEEDED 1 TIME\n",
    "\n",
    "# creating my excel sheet\n",
    "headers = ['Symbol', 'Date', 'Open Price', 'Close Price', 'Percentage Change']\n",
    "workbook_name = 'testing.xlsx'\n",
    "wb = Workbook()\n",
    "page = wb.active\n",
    "page.title = 'my_stocks'\n",
    "page.append(headers)\n",
    "\n",
    "# saving the excel sheet\n",
    "wb.save(filename=workbook_name)"
   ]
  },
  {
   "cell_type": "code",
   "execution_count": null,
   "metadata": {},
   "outputs": [],
   "source": [
    "# use a while loop to loop through all of the data and save it into the excel file\n",
    "\n",
    "i = 0\n",
    "\n",
    "while i < len(stock_symbol):\n",
    "    daily_stock = []\n",
    "    daily_stock.append(stock_symbol[i])\n",
    "    daily_stock.append(date)\n",
    "    daily_stock.append(stock_open[i])\n",
    "    daily_stock.append(stock_close[i])\n",
    "    daily_stock.append(percent_change[i])\n",
    "\n",
    "    # append the excel file and add the data onto it\n",
    "    workbook_name = 'testing.xlsx'\n",
    "    wb = load_workbook(workbook_name)\n",
    "    page = wb.active\n",
    "\n",
    "    # new data to write\n",
    "    new_daily_stock = [daily_stock]\n",
    "\n",
    "    for info in new_daily_stock:\n",
    "        page.append(info)\n",
    "    \n",
    "    # save the excel file\n",
    "    wb.save(filename=workbook_name)\n",
    "\n",
    "    i += 1"
   ]
  },
  {
   "cell_type": "code",
   "execution_count": null,
   "metadata": {},
   "outputs": [
    {
     "data": {
      "text/html": [
       "<div>\n",
       "<style scoped>\n",
       "    .dataframe tbody tr th:only-of-type {\n",
       "        vertical-align: middle;\n",
       "    }\n",
       "\n",
       "    .dataframe tbody tr th {\n",
       "        vertical-align: top;\n",
       "    }\n",
       "\n",
       "    .dataframe thead th {\n",
       "        text-align: right;\n",
       "    }\n",
       "</style>\n",
       "<table border=\"1\" class=\"dataframe\">\n",
       "  <thead>\n",
       "    <tr style=\"text-align: right;\">\n",
       "      <th></th>\n",
       "      <th>Symbol</th>\n",
       "      <th>Date</th>\n",
       "      <th>Open Price</th>\n",
       "      <th>Close Price</th>\n",
       "      <th>Percentage Change</th>\n",
       "    </tr>\n",
       "  </thead>\n",
       "  <tbody>\n",
       "    <tr>\n",
       "      <th>0</th>\n",
       "      <td>AAPL</td>\n",
       "      <td>2022-04-13</td>\n",
       "      <td>167.390</td>\n",
       "      <td>170.40</td>\n",
       "      <td>1.766432</td>\n",
       "    </tr>\n",
       "    <tr>\n",
       "      <th>1</th>\n",
       "      <td>TSLA</td>\n",
       "      <td>2022-04-13</td>\n",
       "      <td>981.075</td>\n",
       "      <td>1022.37</td>\n",
       "      <td>4.039144</td>\n",
       "    </tr>\n",
       "    <tr>\n",
       "      <th>2</th>\n",
       "      <td>FB</td>\n",
       "      <td>2022-04-13</td>\n",
       "      <td>211.820</td>\n",
       "      <td>214.99</td>\n",
       "      <td>1.474487</td>\n",
       "    </tr>\n",
       "    <tr>\n",
       "      <th>3</th>\n",
       "      <td>MSFT</td>\n",
       "      <td>2022-04-13</td>\n",
       "      <td>282.730</td>\n",
       "      <td>287.62</td>\n",
       "      <td>1.700160</td>\n",
       "    </tr>\n",
       "    <tr>\n",
       "      <th>4</th>\n",
       "      <td>NVDA</td>\n",
       "      <td>2022-04-13</td>\n",
       "      <td>217.280</td>\n",
       "      <td>222.03</td>\n",
       "      <td>2.139351</td>\n",
       "    </tr>\n",
       "    <tr>\n",
       "      <th>5</th>\n",
       "      <td>TSLA</td>\n",
       "      <td>2022-04-12</td>\n",
       "      <td>997.640</td>\n",
       "      <td>986.95</td>\n",
       "      <td>-1.083135</td>\n",
       "    </tr>\n",
       "    <tr>\n",
       "      <th>6</th>\n",
       "      <td>AAPL</td>\n",
       "      <td>2022-04-12</td>\n",
       "      <td>168.020</td>\n",
       "      <td>167.66</td>\n",
       "      <td>-0.214720</td>\n",
       "    </tr>\n",
       "  </tbody>\n",
       "</table>\n",
       "</div>"
      ],
      "text/plain": [
       "  Symbol        Date  Open Price  Close Price  Percentage Change\n",
       "0   AAPL  2022-04-13     167.390       170.40           1.766432\n",
       "1   TSLA  2022-04-13     981.075      1022.37           4.039144\n",
       "2     FB  2022-04-13     211.820       214.99           1.474487\n",
       "3   MSFT  2022-04-13     282.730       287.62           1.700160\n",
       "4   NVDA  2022-04-13     217.280       222.03           2.139351\n",
       "5   TSLA  2022-04-12     997.640       986.95          -1.083135\n",
       "6   AAPL  2022-04-12     168.020       167.66          -0.214720"
      ]
     },
     "execution_count": 161,
     "metadata": {},
     "output_type": "execute_result"
    }
   ],
   "source": [
    "file_to_load = pd.read_csv('testing.csv')\n",
    "df = pd.DataFrame(file_to_load)\n",
    "df\n"
   ]
  },
  {
   "cell_type": "code",
   "execution_count": null,
   "metadata": {},
   "outputs": [
    {
     "name": "stdout",
     "output_type": "stream",
     "text": [
      "it is there\n"
     ]
    }
   ],
   "source": [
    "for idx, row in df.iterrows():\n",
    "    if my_symbols[0] in row['Symbol'] and row['Date'] == date:\n",
    "        print('it is there')"
   ]
  },
  {
   "cell_type": "code",
   "execution_count": null,
   "metadata": {},
   "outputs": [
    {
     "data": {
      "text/plain": [
       "'AAPL'"
      ]
     },
     "execution_count": 132,
     "metadata": {},
     "output_type": "execute_result"
    }
   ],
   "source": [
    "for i in my_symbols:\n",
    "    i\n",
    "i"
   ]
  },
  {
   "cell_type": "code",
   "execution_count": null,
   "metadata": {},
   "outputs": [
    {
     "name": "stdout",
     "output_type": "stream",
     "text": [
      "Empty DataFrame\n",
      "Columns: []\n",
      "Index: []\n",
      "------------------------------------------------------------------\n",
      "Empty DataFrame\n",
      "Columns: []\n",
      "Index: []\n",
      "------------------------------------------------------------------\n"
     ]
    }
   ],
   "source": [
    "rslt_df = pd.DataFrame()\n",
    "for i in my_symbols:\n",
    "    if [df.loc[df['Symbol'] == i]] and [df.loc[df['Date']==date]]:\n",
    "        print(rslt_df)\n",
    "    print('------------------------------------------------------------------')"
   ]
  },
  {
   "cell_type": "code",
   "execution_count": null,
   "metadata": {},
   "outputs": [
    {
     "data": {
      "text/plain": [
       "['TSLA', 'AAPL']"
      ]
     },
     "execution_count": 136,
     "metadata": {},
     "output_type": "execute_result"
    }
   ],
   "source": [
    "my_symbols"
   ]
  },
  {
   "cell_type": "code",
   "execution_count": null,
   "metadata": {},
   "outputs": [
    {
     "data": {
      "text/html": [
       "<div>\n",
       "<style scoped>\n",
       "    .dataframe tbody tr th:only-of-type {\n",
       "        vertical-align: middle;\n",
       "    }\n",
       "\n",
       "    .dataframe tbody tr th {\n",
       "        vertical-align: top;\n",
       "    }\n",
       "\n",
       "    .dataframe thead th {\n",
       "        text-align: right;\n",
       "    }\n",
       "</style>\n",
       "<table border=\"1\" class=\"dataframe\">\n",
       "  <thead>\n",
       "    <tr style=\"text-align: right;\">\n",
       "      <th></th>\n",
       "      <th>Symbol</th>\n",
       "      <th>Date</th>\n",
       "      <th>Open Price</th>\n",
       "      <th>Close Price</th>\n",
       "      <th>Percentage Change</th>\n",
       "    </tr>\n",
       "  </thead>\n",
       "  <tbody>\n",
       "    <tr>\n",
       "      <th>0</th>\n",
       "      <td>AAPL</td>\n",
       "      <td>2022-04-13</td>\n",
       "      <td>167.390</td>\n",
       "      <td>170.40</td>\n",
       "      <td>1.766432</td>\n",
       "    </tr>\n",
       "    <tr>\n",
       "      <th>1</th>\n",
       "      <td>TSLA</td>\n",
       "      <td>2022-04-13</td>\n",
       "      <td>981.075</td>\n",
       "      <td>1022.37</td>\n",
       "      <td>4.039144</td>\n",
       "    </tr>\n",
       "    <tr>\n",
       "      <th>2</th>\n",
       "      <td>FB</td>\n",
       "      <td>2022-04-13</td>\n",
       "      <td>211.820</td>\n",
       "      <td>214.99</td>\n",
       "      <td>1.474487</td>\n",
       "    </tr>\n",
       "    <tr>\n",
       "      <th>3</th>\n",
       "      <td>MSFT</td>\n",
       "      <td>2022-04-13</td>\n",
       "      <td>282.730</td>\n",
       "      <td>287.62</td>\n",
       "      <td>1.700160</td>\n",
       "    </tr>\n",
       "    <tr>\n",
       "      <th>4</th>\n",
       "      <td>NVDA</td>\n",
       "      <td>2022-04-13</td>\n",
       "      <td>217.280</td>\n",
       "      <td>222.03</td>\n",
       "      <td>2.139351</td>\n",
       "    </tr>\n",
       "  </tbody>\n",
       "</table>\n",
       "</div>"
      ],
      "text/plain": [
       "  Symbol        Date  Open Price  Close Price  Percentage Change\n",
       "0   AAPL  2022-04-13     167.390       170.40           1.766432\n",
       "1   TSLA  2022-04-13     981.075      1022.37           4.039144\n",
       "2     FB  2022-04-13     211.820       214.99           1.474487\n",
       "3   MSFT  2022-04-13     282.730       287.62           1.700160\n",
       "4   NVDA  2022-04-13     217.280       222.03           2.139351"
      ]
     },
     "execution_count": 143,
     "metadata": {},
     "output_type": "execute_result"
    }
   ],
   "source": [
    "df"
   ]
  },
  {
   "cell_type": "code",
   "execution_count": 11,
   "metadata": {},
   "outputs": [
    {
     "data": {
      "text/plain": [
       "{'status': 'OK',\n",
       " 'from': '2022-04-13',\n",
       " 'symbol': 'TSLA',\n",
       " 'open': 981.075,\n",
       " 'high': 1026.24,\n",
       " 'low': 973.097,\n",
       " 'close': 1022.37,\n",
       " 'volume': 18368304,\n",
       " 'afterHours': 1023,\n",
       " 'preMarket': 999.68}"
      ]
     },
     "execution_count": 11,
     "metadata": {},
     "output_type": "execute_result"
    }
   ],
   "source": [
    "res[0]"
   ]
  },
  {
   "cell_type": "code",
   "execution_count": null,
   "metadata": {},
   "outputs": [],
   "source": []
  }
 ],
 "metadata": {
  "interpreter": {
   "hash": "edef3ce79c9ebb3b3e788f10a6000de75ecb8c148eb3bfe7937f9a137388f7c9"
  },
  "kernelspec": {
   "display_name": "Python 3.7.6 64-bit",
   "language": "python",
   "name": "python3"
  },
  "language_info": {
   "codemirror_mode": {
    "name": "ipython",
    "version": 3
   },
   "file_extension": ".py",
   "mimetype": "text/x-python",
   "name": "python",
   "nbconvert_exporter": "python",
   "pygments_lexer": "ipython3",
   "version": "3.7.6"
  },
  "orig_nbformat": 4
 },
 "nbformat": 4,
 "nbformat_minor": 2
}
